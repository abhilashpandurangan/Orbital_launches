{
 "cells": [
  {
   "cell_type": "markdown",
   "metadata": {},
   "source": [
    "# Successful Space Orbital Launches in 2019"
   ]
  },
  {
   "cell_type": "code",
   "execution_count": 1,
   "metadata": {},
   "outputs": [],
   "source": [
    "# getting tables from url"
   ]
  },
  {
   "cell_type": "code",
   "execution_count": 2,
   "metadata": {},
   "outputs": [],
   "source": [
    "url = 'https://en.wikipedia.org/wiki/2019_in_spaceflight#Orbital_launches'\n",
    "\n",
    "import pandas as pd\n",
    "tables = pd.read_html(url)"
   ]
  },
  {
   "cell_type": "code",
   "execution_count": 3,
   "metadata": {},
   "outputs": [],
   "source": [
    "df = tables[3]"
   ]
  },
  {
   "cell_type": "code",
   "execution_count": 4,
   "metadata": {},
   "outputs": [],
   "source": [
    "df = df[3:]"
   ]
  },
  {
   "cell_type": "code",
   "execution_count": 5,
   "metadata": {},
   "outputs": [],
   "source": [
    "df.columns = ['Date and time (UTC)','Rocket','Flight number','1','Launch site','2','LS']"
   ]
  },
  {
   "cell_type": "code",
   "execution_count": 6,
   "metadata": {},
   "outputs": [
    {
     "data": {
      "text/html": [
       "<div>\n",
       "<style scoped>\n",
       "    .dataframe tbody tr th:only-of-type {\n",
       "        vertical-align: middle;\n",
       "    }\n",
       "\n",
       "    .dataframe tbody tr th {\n",
       "        vertical-align: top;\n",
       "    }\n",
       "\n",
       "    .dataframe thead th {\n",
       "        text-align: right;\n",
       "    }\n",
       "</style>\n",
       "<table border=\"1\" class=\"dataframe\">\n",
       "  <thead>\n",
       "    <tr style=\"text-align: right;\">\n",
       "      <th></th>\n",
       "      <th>Date and time (UTC)</th>\n",
       "      <th>Rocket</th>\n",
       "      <th>Flight number</th>\n",
       "      <th>1</th>\n",
       "      <th>Launch site</th>\n",
       "      <th>2</th>\n",
       "      <th>LS</th>\n",
       "    </tr>\n",
       "  </thead>\n",
       "  <tbody>\n",
       "    <tr>\n",
       "      <td>3</td>\n",
       "      <td>10 January17:05[20]</td>\n",
       "      <td>Long March 3B/E</td>\n",
       "      <td>3B-Y56[21]</td>\n",
       "      <td>Xichang LC-2</td>\n",
       "      <td>Xichang LC-2</td>\n",
       "      <td>CASC</td>\n",
       "      <td>CASC</td>\n",
       "    </tr>\n",
       "    <tr>\n",
       "      <td>4</td>\n",
       "      <td>10 January17:05[20]</td>\n",
       "      <td>Chinasat 2D</td>\n",
       "      <td>CNSA</td>\n",
       "      <td>Geosynchronous</td>\n",
       "      <td>Communications</td>\n",
       "      <td>In orbit</td>\n",
       "      <td>Operational</td>\n",
       "    </tr>\n",
       "    <tr>\n",
       "      <td>5</td>\n",
       "      <td>11 January15:31[22]</td>\n",
       "      <td>Falcon 9 Block 5</td>\n",
       "      <td>F9-067</td>\n",
       "      <td>Vandenberg SLC-4E</td>\n",
       "      <td>Vandenberg SLC-4E</td>\n",
       "      <td>SpaceX</td>\n",
       "      <td>SpaceX</td>\n",
       "    </tr>\n",
       "    <tr>\n",
       "      <td>6</td>\n",
       "      <td>11 January15:31[22]</td>\n",
       "      <td>Iridium NEXT 66-75</td>\n",
       "      <td>Iridium</td>\n",
       "      <td>Low Earth</td>\n",
       "      <td>Communications</td>\n",
       "      <td>In orbit</td>\n",
       "      <td>Operational</td>\n",
       "    </tr>\n",
       "    <tr>\n",
       "      <td>7</td>\n",
       "      <td>15 January[23][24]</td>\n",
       "      <td>Simorgh</td>\n",
       "      <td>NaN</td>\n",
       "      <td>Semnan LP-2</td>\n",
       "      <td>Semnan LP-2</td>\n",
       "      <td>ISA</td>\n",
       "      <td>ISA</td>\n",
       "    </tr>\n",
       "  </tbody>\n",
       "</table>\n",
       "</div>"
      ],
      "text/plain": [
       "   Date and time (UTC)              Rocket Flight number                  1  \\\n",
       "3  10 January17:05[20]     Long March 3B/E    3B-Y56[21]       Xichang LC-2   \n",
       "4  10 January17:05[20]         Chinasat 2D          CNSA     Geosynchronous   \n",
       "5  11 January15:31[22]    Falcon 9 Block 5        F9-067  Vandenberg SLC-4E   \n",
       "6  11 January15:31[22]  Iridium NEXT 66-75       Iridium          Low Earth   \n",
       "7   15 January[23][24]             Simorgh           NaN        Semnan LP-2   \n",
       "\n",
       "         Launch site         2           LS  \n",
       "3       Xichang LC-2      CASC         CASC  \n",
       "4     Communications  In orbit  Operational  \n",
       "5  Vandenberg SLC-4E    SpaceX       SpaceX  \n",
       "6     Communications  In orbit  Operational  \n",
       "7        Semnan LP-2       ISA          ISA  "
      ]
     },
     "execution_count": 6,
     "metadata": {},
     "output_type": "execute_result"
    }
   ],
   "source": [
    "df.head()"
   ]
  },
  {
   "cell_type": "markdown",
   "metadata": {},
   "source": [
    "# Convert to ISO date format"
   ]
  },
  {
   "cell_type": "code",
   "execution_count": 7,
   "metadata": {},
   "outputs": [
    {
     "name": "stdout",
     "output_type": "stream",
     "text": [
      "2019-01-10T17:05:00\n"
     ]
    }
   ],
   "source": [
    "import dateutil.parser as parser\n",
    "text = '10 January 2019 17:05'\n",
    "date = parser.parse(text)\n",
    "print(date.isoformat())"
   ]
  },
  {
   "cell_type": "code",
   "execution_count": 8,
   "metadata": {},
   "outputs": [
    {
     "data": {
      "text/plain": [
       "'2019-01-10T17:05:00'"
      ]
     },
     "execution_count": 8,
     "metadata": {},
     "output_type": "execute_result"
    }
   ],
   "source": [
    "from datetime import datetime\n",
    "date = datetime.strptime('10 January 2019 17:05:00', '%d %B %Y %H:%M:%S')\n",
    "date.isoformat()"
   ]
  },
  {
   "cell_type": "code",
   "execution_count": 9,
   "metadata": {},
   "outputs": [],
   "source": [
    "def isodateformat(dt):\n",
    "    if '['in dt:\n",
    "        id = dt.index('[')\n",
    "        dt = dt[:id]\n",
    "    d = dt.split()\n",
    "    #print(d)\n",
    "    cnt=0\n",
    "    for x in d[1]:\n",
    "        if x.isdigit():\n",
    "            idx = d[1].index(x)\n",
    "            cnt=1\n",
    "            break\n",
    "    if cnt==0:\n",
    "        idx=len(d[1])\n",
    "        d[1]+='00:00'\n",
    "    \n",
    "    time = d[1][idx:]\n",
    "    d[1] = d[1][:idx]\n",
    "    d.insert(2,'2019')\n",
    "    time = time.split(':')\n",
    "    if len(time)!=3:\n",
    "        time.append('00')\n",
    "    \n",
    "    #print(time)\n",
    "    date = ' '.join(d[:3])+'T'+':'.join(time)\n",
    "    #print(date)\n",
    "    date = datetime.strptime(date, '%d %B %YT%H:%M:%S')\n",
    "    date.isoformat()\n",
    "    isodate = 'T'.join(str(date).split(' '))+'+00:00'\n",
    "    return isodate"
   ]
  },
  {
   "cell_type": "code",
   "execution_count": 10,
   "metadata": {},
   "outputs": [
    {
     "data": {
      "text/plain": [
       "'2019-06-05T04:06:00+00:00'"
      ]
     },
     "execution_count": 10,
     "metadata": {},
     "output_type": "execute_result"
    }
   ],
   "source": [
    "dt = df.iloc[140]['Date and time (UTC)']\n",
    "isodateformat(dt)"
   ]
  },
  {
   "cell_type": "code",
   "execution_count": 11,
   "metadata": {},
   "outputs": [
    {
     "data": {
      "text/plain": [
       "22"
      ]
     },
     "execution_count": 11,
     "metadata": {},
     "output_type": "execute_result"
    }
   ],
   "source": [
    "sum(df['Date and time (UTC)'].str.startswith('←'))"
   ]
  },
  {
   "cell_type": "markdown",
   "metadata": {},
   "source": [
    "# Cleaning Data"
   ]
  },
  {
   "cell_type": "code",
   "execution_count": 12,
   "metadata": {},
   "outputs": [],
   "source": [
    "indextoremove = df[df['Date and time (UTC)'].str.startswith('←')].index"
   ]
  },
  {
   "cell_type": "code",
   "execution_count": 13,
   "metadata": {
    "collapsed": true,
    "jupyter": {
     "outputs_hidden": true
    }
   },
   "outputs": [
    {
     "name": "stderr",
     "output_type": "stream",
     "text": [
      "C:\\ProgramData\\Anaconda3\\lib\\site-packages\\pandas\\core\\frame.py:4102: SettingWithCopyWarning: \n",
      "A value is trying to be set on a copy of a slice from a DataFrame\n",
      "\n",
      "See the caveats in the documentation: http://pandas.pydata.org/pandas-docs/stable/user_guide/indexing.html#returning-a-view-versus-a-copy\n",
      "  errors=errors,\n"
     ]
    }
   ],
   "source": [
    "df.drop(indextoremove,inplace=True)"
   ]
  },
  {
   "cell_type": "code",
   "execution_count": 14,
   "metadata": {
    "collapsed": true,
    "jupyter": {
     "outputs_hidden": true
    }
   },
   "outputs": [
    {
     "name": "stderr",
     "output_type": "stream",
     "text": [
      "C:\\ProgramData\\Anaconda3\\lib\\site-packages\\ipykernel_launcher.py:1: SettingWithCopyWarning: \n",
      "A value is trying to be set on a copy of a slice from a DataFrame.\n",
      "Try using .loc[row_indexer,col_indexer] = value instead\n",
      "\n",
      "See the caveats in the documentation: http://pandas.pydata.org/pandas-docs/stable/user_guide/indexing.html#returning-a-view-versus-a-copy\n",
      "  \"\"\"Entry point for launching an IPython kernel.\n"
     ]
    }
   ],
   "source": [
    "df['Date and time (UTC)'] = df['Date and time (UTC)'].apply(lambda dt : isodateformat(dt))"
   ]
  },
  {
   "cell_type": "code",
   "execution_count": 15,
   "metadata": {},
   "outputs": [
    {
     "data": {
      "text/plain": [
       "'2019-01-15T00:00:00+00:00'"
      ]
     },
     "execution_count": 15,
     "metadata": {},
     "output_type": "execute_result"
    }
   ],
   "source": [
    "df.iloc[5]['Date and time (UTC)']"
   ]
  },
  {
   "cell_type": "code",
   "execution_count": 16,
   "metadata": {},
   "outputs": [
    {
     "data": {
      "text/html": [
       "<div>\n",
       "<style scoped>\n",
       "    .dataframe tbody tr th:only-of-type {\n",
       "        vertical-align: middle;\n",
       "    }\n",
       "\n",
       "    .dataframe tbody tr th {\n",
       "        vertical-align: top;\n",
       "    }\n",
       "\n",
       "    .dataframe thead th {\n",
       "        text-align: right;\n",
       "    }\n",
       "</style>\n",
       "<table border=\"1\" class=\"dataframe\">\n",
       "  <thead>\n",
       "    <tr style=\"text-align: right;\">\n",
       "      <th></th>\n",
       "      <th>Date and time (UTC)</th>\n",
       "      <th>Rocket</th>\n",
       "      <th>Flight number</th>\n",
       "      <th>1</th>\n",
       "      <th>Launch site</th>\n",
       "      <th>2</th>\n",
       "      <th>LS</th>\n",
       "    </tr>\n",
       "  </thead>\n",
       "  <tbody>\n",
       "    <tr>\n",
       "      <td>3</td>\n",
       "      <td>2019-01-10T17:05:00+00:00</td>\n",
       "      <td>Long March 3B/E</td>\n",
       "      <td>3B-Y56[21]</td>\n",
       "      <td>Xichang LC-2</td>\n",
       "      <td>Xichang LC-2</td>\n",
       "      <td>CASC</td>\n",
       "      <td>CASC</td>\n",
       "    </tr>\n",
       "    <tr>\n",
       "      <td>4</td>\n",
       "      <td>2019-01-10T17:05:00+00:00</td>\n",
       "      <td>Chinasat 2D</td>\n",
       "      <td>CNSA</td>\n",
       "      <td>Geosynchronous</td>\n",
       "      <td>Communications</td>\n",
       "      <td>In orbit</td>\n",
       "      <td>Operational</td>\n",
       "    </tr>\n",
       "    <tr>\n",
       "      <td>5</td>\n",
       "      <td>2019-01-11T15:31:00+00:00</td>\n",
       "      <td>Falcon 9 Block 5</td>\n",
       "      <td>F9-067</td>\n",
       "      <td>Vandenberg SLC-4E</td>\n",
       "      <td>Vandenberg SLC-4E</td>\n",
       "      <td>SpaceX</td>\n",
       "      <td>SpaceX</td>\n",
       "    </tr>\n",
       "    <tr>\n",
       "      <td>6</td>\n",
       "      <td>2019-01-11T15:31:00+00:00</td>\n",
       "      <td>Iridium NEXT 66-75</td>\n",
       "      <td>Iridium</td>\n",
       "      <td>Low Earth</td>\n",
       "      <td>Communications</td>\n",
       "      <td>In orbit</td>\n",
       "      <td>Operational</td>\n",
       "    </tr>\n",
       "    <tr>\n",
       "      <td>7</td>\n",
       "      <td>2019-01-15T00:00:00+00:00</td>\n",
       "      <td>Simorgh</td>\n",
       "      <td>NaN</td>\n",
       "      <td>Semnan LP-2</td>\n",
       "      <td>Semnan LP-2</td>\n",
       "      <td>ISA</td>\n",
       "      <td>ISA</td>\n",
       "    </tr>\n",
       "  </tbody>\n",
       "</table>\n",
       "</div>"
      ],
      "text/plain": [
       "         Date and time (UTC)              Rocket Flight number  \\\n",
       "3  2019-01-10T17:05:00+00:00     Long March 3B/E    3B-Y56[21]   \n",
       "4  2019-01-10T17:05:00+00:00         Chinasat 2D          CNSA   \n",
       "5  2019-01-11T15:31:00+00:00    Falcon 9 Block 5        F9-067   \n",
       "6  2019-01-11T15:31:00+00:00  Iridium NEXT 66-75       Iridium   \n",
       "7  2019-01-15T00:00:00+00:00             Simorgh           NaN   \n",
       "\n",
       "                   1        Launch site         2           LS  \n",
       "3       Xichang LC-2       Xichang LC-2      CASC         CASC  \n",
       "4     Geosynchronous     Communications  In orbit  Operational  \n",
       "5  Vandenberg SLC-4E  Vandenberg SLC-4E    SpaceX       SpaceX  \n",
       "6          Low Earth     Communications  In orbit  Operational  \n",
       "7        Semnan LP-2        Semnan LP-2       ISA          ISA  "
      ]
     },
     "execution_count": 16,
     "metadata": {},
     "output_type": "execute_result"
    }
   ],
   "source": [
    "df.head()"
   ]
  },
  {
   "cell_type": "code",
   "execution_count": 17,
   "metadata": {},
   "outputs": [],
   "source": [
    "df = df.reset_index(drop=True)"
   ]
  },
  {
   "cell_type": "code",
   "execution_count": 18,
   "metadata": {},
   "outputs": [
    {
     "data": {
      "text/html": [
       "<div>\n",
       "<style scoped>\n",
       "    .dataframe tbody tr th:only-of-type {\n",
       "        vertical-align: middle;\n",
       "    }\n",
       "\n",
       "    .dataframe tbody tr th {\n",
       "        vertical-align: top;\n",
       "    }\n",
       "\n",
       "    .dataframe thead th {\n",
       "        text-align: right;\n",
       "    }\n",
       "</style>\n",
       "<table border=\"1\" class=\"dataframe\">\n",
       "  <thead>\n",
       "    <tr style=\"text-align: right;\">\n",
       "      <th></th>\n",
       "      <th>Date and time (UTC)</th>\n",
       "      <th>Rocket</th>\n",
       "      <th>Flight number</th>\n",
       "      <th>1</th>\n",
       "      <th>Launch site</th>\n",
       "      <th>2</th>\n",
       "      <th>LS</th>\n",
       "    </tr>\n",
       "  </thead>\n",
       "  <tbody>\n",
       "    <tr>\n",
       "      <td>0</td>\n",
       "      <td>2019-01-10T17:05:00+00:00</td>\n",
       "      <td>Long March 3B/E</td>\n",
       "      <td>3B-Y56[21]</td>\n",
       "      <td>Xichang LC-2</td>\n",
       "      <td>Xichang LC-2</td>\n",
       "      <td>CASC</td>\n",
       "      <td>CASC</td>\n",
       "    </tr>\n",
       "    <tr>\n",
       "      <td>1</td>\n",
       "      <td>2019-01-10T17:05:00+00:00</td>\n",
       "      <td>Chinasat 2D</td>\n",
       "      <td>CNSA</td>\n",
       "      <td>Geosynchronous</td>\n",
       "      <td>Communications</td>\n",
       "      <td>In orbit</td>\n",
       "      <td>Operational</td>\n",
       "    </tr>\n",
       "    <tr>\n",
       "      <td>2</td>\n",
       "      <td>2019-01-11T15:31:00+00:00</td>\n",
       "      <td>Falcon 9 Block 5</td>\n",
       "      <td>F9-067</td>\n",
       "      <td>Vandenberg SLC-4E</td>\n",
       "      <td>Vandenberg SLC-4E</td>\n",
       "      <td>SpaceX</td>\n",
       "      <td>SpaceX</td>\n",
       "    </tr>\n",
       "    <tr>\n",
       "      <td>3</td>\n",
       "      <td>2019-01-11T15:31:00+00:00</td>\n",
       "      <td>Iridium NEXT 66-75</td>\n",
       "      <td>Iridium</td>\n",
       "      <td>Low Earth</td>\n",
       "      <td>Communications</td>\n",
       "      <td>In orbit</td>\n",
       "      <td>Operational</td>\n",
       "    </tr>\n",
       "    <tr>\n",
       "      <td>4</td>\n",
       "      <td>2019-01-15T00:00:00+00:00</td>\n",
       "      <td>Simorgh</td>\n",
       "      <td>NaN</td>\n",
       "      <td>Semnan LP-2</td>\n",
       "      <td>Semnan LP-2</td>\n",
       "      <td>ISA</td>\n",
       "      <td>ISA</td>\n",
       "    </tr>\n",
       "  </tbody>\n",
       "</table>\n",
       "</div>"
      ],
      "text/plain": [
       "         Date and time (UTC)              Rocket Flight number  \\\n",
       "0  2019-01-10T17:05:00+00:00     Long March 3B/E    3B-Y56[21]   \n",
       "1  2019-01-10T17:05:00+00:00         Chinasat 2D          CNSA   \n",
       "2  2019-01-11T15:31:00+00:00    Falcon 9 Block 5        F9-067   \n",
       "3  2019-01-11T15:31:00+00:00  Iridium NEXT 66-75       Iridium   \n",
       "4  2019-01-15T00:00:00+00:00             Simorgh           NaN   \n",
       "\n",
       "                   1        Launch site         2           LS  \n",
       "0       Xichang LC-2       Xichang LC-2      CASC         CASC  \n",
       "1     Geosynchronous     Communications  In orbit  Operational  \n",
       "2  Vandenberg SLC-4E  Vandenberg SLC-4E    SpaceX       SpaceX  \n",
       "3          Low Earth     Communications  In orbit  Operational  \n",
       "4        Semnan LP-2        Semnan LP-2       ISA          ISA  "
      ]
     },
     "execution_count": 18,
     "metadata": {},
     "output_type": "execute_result"
    }
   ],
   "source": [
    "df.head()"
   ]
  },
  {
   "cell_type": "code",
   "execution_count": 19,
   "metadata": {},
   "outputs": [],
   "source": [
    "unique_dates = df['Date and time (UTC)'].unique().tolist()"
   ]
  },
  {
   "cell_type": "code",
   "execution_count": 20,
   "metadata": {},
   "outputs": [
    {
     "data": {
      "text/plain": [
       "'2019-01-10T17:05:00+00:00'"
      ]
     },
     "execution_count": 20,
     "metadata": {},
     "output_type": "execute_result"
    }
   ],
   "source": [
    "unique_dates[0]"
   ]
  },
  {
   "cell_type": "code",
   "execution_count": 21,
   "metadata": {},
   "outputs": [],
   "source": [
    "new_df = {}\n",
    "for date in unique_dates:\n",
    "    new_df[date] = df.loc[df['Date and time (UTC)'] == date]['LS'].tolist()\n",
    "    "
   ]
  },
  {
   "cell_type": "code",
   "execution_count": 22,
   "metadata": {},
   "outputs": [
    {
     "data": {
      "text/plain": [
       "[['CASC', 'Operational'], ['SpaceX', 'Operational']]"
      ]
     },
     "execution_count": 22,
     "metadata": {},
     "output_type": "execute_result"
    }
   ],
   "source": [
    "list(new_df.values())[:2]"
   ]
  },
  {
   "cell_type": "markdown",
   "metadata": {},
   "source": [
    "# Finding successful launches"
   ]
  },
  {
   "cell_type": "code",
   "execution_count": 25,
   "metadata": {},
   "outputs": [],
   "source": [
    "successdates = []\n",
    "for k,v in new_df.items():\n",
    "    if 'Successful' in v or 'Operational' in v or 'En Route' in v: \n",
    "        successdates.append(k)"
   ]
  },
  {
   "cell_type": "code",
   "execution_count": 26,
   "metadata": {},
   "outputs": [
    {
     "data": {
      "text/plain": [
       "['2019-01-10T17:05:00+00:00',\n",
       " '2019-01-11T15:31:00+00:00',\n",
       " '2019-01-18T00:50:20+00:00']"
      ]
     },
     "execution_count": 26,
     "metadata": {},
     "output_type": "execute_result"
    }
   ],
   "source": [
    "successdates[:3]"
   ]
  },
  {
   "cell_type": "code",
   "execution_count": 27,
   "metadata": {},
   "outputs": [
    {
     "data": {
      "text/plain": [
       "dict_values([1, 1, 1, 1, 1, 1, 1, 1, 1, 1, 1, 1, 1, 1, 1, 1, 1, 2, 1, 1, 1, 1, 1, 1, 1, 1, 1, 1, 1, 1, 1, 1, 1, 1, 1, 1, 1, 1, 2, 1, 1, 1, 1, 2, 1, 1, 1, 2, 2, 1, 1, 1, 1, 2, 1, 1, 1, 1, 2, 1, 1, 1, 1, 2, 1, 1, 1, 1, 2, 1, 2, 2, 2, 1, 1, 1, 1, 1, 1, 1])"
      ]
     },
     "execution_count": 27,
     "metadata": {},
     "output_type": "execute_result"
    }
   ],
   "source": [
    "unique_dates = {}\n",
    "for dt in successdates:\n",
    "    date = dt.split('T')[0]\n",
    "    if date not in unique_dates:\n",
    "        unique_dates[date]=1\n",
    "    else:\n",
    "        unique_dates[date]+=1\n",
    "unique_dates.values()"
   ]
  },
  {
   "cell_type": "code",
   "execution_count": 28,
   "metadata": {},
   "outputs": [],
   "source": [
    "from datetime import date, timedelta\n",
    "\n",
    "sdate = date(2019, 1, 1)   # start date\n",
    "edate = date(2019, 12, 31)   # end date\n",
    "\n",
    "delta = edate - sdate       # as timedelta\n",
    "\n",
    "required_dict = {}\n",
    "\n",
    "for i in range(delta.days + 1):\n",
    "    day = sdate + timedelta(days=i)\n",
    "    if str(day) in unique_dates.keys():\n",
    "        required_dict[str(day)+'T00:00:00+00:00'] = unique_dates[str(day)]\n",
    "    else:\n",
    "        required_dict[str(day)+'T00:00:00+00:00'] = 0"
   ]
  },
  {
   "cell_type": "code",
   "execution_count": null,
   "metadata": {},
   "outputs": [],
   "source": [
    "# Required Values "
   ]
  },
  {
   "cell_type": "code",
   "execution_count": 29,
   "metadata": {},
   "outputs": [
    {
     "data": {
      "text/plain": [
       "{'2019-01-01T00:00:00+00:00': 0,\n",
       " '2019-01-02T00:00:00+00:00': 0,\n",
       " '2019-01-03T00:00:00+00:00': 0,\n",
       " '2019-01-04T00:00:00+00:00': 0,\n",
       " '2019-01-05T00:00:00+00:00': 0,\n",
       " '2019-01-06T00:00:00+00:00': 0,\n",
       " '2019-01-07T00:00:00+00:00': 0,\n",
       " '2019-01-08T00:00:00+00:00': 0,\n",
       " '2019-01-09T00:00:00+00:00': 0,\n",
       " '2019-01-10T00:00:00+00:00': 1,\n",
       " '2019-01-11T00:00:00+00:00': 1,\n",
       " '2019-01-12T00:00:00+00:00': 0,\n",
       " '2019-01-13T00:00:00+00:00': 0,\n",
       " '2019-01-14T00:00:00+00:00': 0,\n",
       " '2019-01-15T00:00:00+00:00': 0,\n",
       " '2019-01-16T00:00:00+00:00': 0,\n",
       " '2019-01-17T00:00:00+00:00': 0,\n",
       " '2019-01-18T00:00:00+00:00': 1,\n",
       " '2019-01-19T00:00:00+00:00': 1,\n",
       " '2019-01-20T00:00:00+00:00': 0,\n",
       " '2019-01-21T00:00:00+00:00': 1,\n",
       " '2019-01-22T00:00:00+00:00': 0,\n",
       " '2019-01-23T00:00:00+00:00': 0,\n",
       " '2019-01-24T00:00:00+00:00': 1,\n",
       " '2019-01-25T00:00:00+00:00': 0,\n",
       " '2019-01-26T00:00:00+00:00': 0,\n",
       " '2019-01-27T00:00:00+00:00': 0,\n",
       " '2019-01-28T00:00:00+00:00': 0,\n",
       " '2019-01-29T00:00:00+00:00': 0,\n",
       " '2019-01-30T00:00:00+00:00': 0,\n",
       " '2019-01-31T00:00:00+00:00': 0,\n",
       " '2019-02-01T00:00:00+00:00': 0,\n",
       " '2019-02-02T00:00:00+00:00': 0,\n",
       " '2019-02-03T00:00:00+00:00': 0,\n",
       " '2019-02-04T00:00:00+00:00': 0,\n",
       " '2019-02-05T00:00:00+00:00': 1,\n",
       " '2019-02-06T00:00:00+00:00': 0,\n",
       " '2019-02-07T00:00:00+00:00': 0,\n",
       " '2019-02-08T00:00:00+00:00': 0,\n",
       " '2019-02-09T00:00:00+00:00': 0,\n",
       " '2019-02-10T00:00:00+00:00': 0,\n",
       " '2019-02-11T00:00:00+00:00': 0,\n",
       " '2019-02-12T00:00:00+00:00': 0,\n",
       " '2019-02-13T00:00:00+00:00': 0,\n",
       " '2019-02-14T00:00:00+00:00': 0,\n",
       " '2019-02-15T00:00:00+00:00': 0,\n",
       " '2019-02-16T00:00:00+00:00': 0,\n",
       " '2019-02-17T00:00:00+00:00': 0,\n",
       " '2019-02-18T00:00:00+00:00': 0,\n",
       " '2019-02-19T00:00:00+00:00': 0,\n",
       " '2019-02-20T00:00:00+00:00': 0,\n",
       " '2019-02-21T00:00:00+00:00': 1,\n",
       " '2019-02-22T00:00:00+00:00': 1,\n",
       " '2019-02-23T00:00:00+00:00': 0,\n",
       " '2019-02-24T00:00:00+00:00': 0,\n",
       " '2019-02-25T00:00:00+00:00': 0,\n",
       " '2019-02-26T00:00:00+00:00': 0,\n",
       " '2019-02-27T00:00:00+00:00': 0,\n",
       " '2019-02-28T00:00:00+00:00': 0,\n",
       " '2019-03-01T00:00:00+00:00': 0,\n",
       " '2019-03-02T00:00:00+00:00': 1,\n",
       " '2019-03-03T00:00:00+00:00': 0,\n",
       " '2019-03-04T00:00:00+00:00': 0,\n",
       " '2019-03-05T00:00:00+00:00': 0,\n",
       " '2019-03-06T00:00:00+00:00': 0,\n",
       " '2019-03-07T00:00:00+00:00': 0,\n",
       " '2019-03-08T00:00:00+00:00': 0,\n",
       " '2019-03-09T00:00:00+00:00': 1,\n",
       " '2019-03-10T00:00:00+00:00': 0,\n",
       " '2019-03-11T00:00:00+00:00': 0,\n",
       " '2019-03-12T00:00:00+00:00': 0,\n",
       " '2019-03-13T00:00:00+00:00': 0,\n",
       " '2019-03-14T00:00:00+00:00': 1,\n",
       " '2019-03-15T00:00:00+00:00': 0,\n",
       " '2019-03-16T00:00:00+00:00': 1,\n",
       " '2019-03-17T00:00:00+00:00': 0,\n",
       " '2019-03-18T00:00:00+00:00': 0,\n",
       " '2019-03-19T00:00:00+00:00': 0,\n",
       " '2019-03-20T00:00:00+00:00': 0,\n",
       " '2019-03-21T00:00:00+00:00': 0,\n",
       " '2019-03-22T00:00:00+00:00': 1,\n",
       " '2019-03-23T00:00:00+00:00': 0,\n",
       " '2019-03-24T00:00:00+00:00': 0,\n",
       " '2019-03-25T00:00:00+00:00': 0,\n",
       " '2019-03-26T00:00:00+00:00': 0,\n",
       " '2019-03-27T00:00:00+00:00': 0,\n",
       " '2019-03-28T00:00:00+00:00': 1,\n",
       " '2019-03-29T00:00:00+00:00': 0,\n",
       " '2019-03-30T00:00:00+00:00': 0,\n",
       " '2019-03-31T00:00:00+00:00': 1,\n",
       " '2019-04-01T00:00:00+00:00': 1,\n",
       " '2019-04-02T00:00:00+00:00': 0,\n",
       " '2019-04-03T00:00:00+00:00': 0,\n",
       " '2019-04-04T00:00:00+00:00': 2,\n",
       " '2019-04-05T00:00:00+00:00': 0,\n",
       " '2019-04-06T00:00:00+00:00': 0,\n",
       " '2019-04-07T00:00:00+00:00': 0,\n",
       " '2019-04-08T00:00:00+00:00': 0,\n",
       " '2019-04-09T00:00:00+00:00': 0,\n",
       " '2019-04-10T00:00:00+00:00': 0,\n",
       " '2019-04-11T00:00:00+00:00': 1,\n",
       " '2019-04-12T00:00:00+00:00': 0,\n",
       " '2019-04-13T00:00:00+00:00': 0,\n",
       " '2019-04-14T00:00:00+00:00': 0,\n",
       " '2019-04-15T00:00:00+00:00': 0,\n",
       " '2019-04-16T00:00:00+00:00': 0,\n",
       " '2019-04-17T00:00:00+00:00': 1,\n",
       " '2019-04-18T00:00:00+00:00': 0,\n",
       " '2019-04-19T00:00:00+00:00': 0,\n",
       " '2019-04-20T00:00:00+00:00': 1,\n",
       " '2019-04-21T00:00:00+00:00': 0,\n",
       " '2019-04-22T00:00:00+00:00': 0,\n",
       " '2019-04-23T00:00:00+00:00': 0,\n",
       " '2019-04-24T00:00:00+00:00': 0,\n",
       " '2019-04-25T00:00:00+00:00': 0,\n",
       " '2019-04-26T00:00:00+00:00': 0,\n",
       " '2019-04-27T00:00:00+00:00': 0,\n",
       " '2019-04-28T00:00:00+00:00': 0,\n",
       " '2019-04-29T00:00:00+00:00': 1,\n",
       " '2019-04-30T00:00:00+00:00': 0,\n",
       " '2019-05-01T00:00:00+00:00': 0,\n",
       " '2019-05-02T00:00:00+00:00': 0,\n",
       " '2019-05-03T00:00:00+00:00': 0,\n",
       " '2019-05-04T00:00:00+00:00': 1,\n",
       " '2019-05-05T00:00:00+00:00': 1,\n",
       " '2019-05-06T00:00:00+00:00': 0,\n",
       " '2019-05-07T00:00:00+00:00': 0,\n",
       " '2019-05-08T00:00:00+00:00': 0,\n",
       " '2019-05-09T00:00:00+00:00': 0,\n",
       " '2019-05-10T00:00:00+00:00': 0,\n",
       " '2019-05-11T00:00:00+00:00': 0,\n",
       " '2019-05-12T00:00:00+00:00': 0,\n",
       " '2019-05-13T00:00:00+00:00': 0,\n",
       " '2019-05-14T00:00:00+00:00': 0,\n",
       " '2019-05-15T00:00:00+00:00': 0,\n",
       " '2019-05-16T00:00:00+00:00': 0,\n",
       " '2019-05-17T00:00:00+00:00': 1,\n",
       " '2019-05-18T00:00:00+00:00': 0,\n",
       " '2019-05-19T00:00:00+00:00': 0,\n",
       " '2019-05-20T00:00:00+00:00': 0,\n",
       " '2019-05-21T00:00:00+00:00': 0,\n",
       " '2019-05-22T00:00:00+00:00': 1,\n",
       " '2019-05-23T00:00:00+00:00': 0,\n",
       " '2019-05-24T00:00:00+00:00': 1,\n",
       " '2019-05-25T00:00:00+00:00': 0,\n",
       " '2019-05-26T00:00:00+00:00': 0,\n",
       " '2019-05-27T00:00:00+00:00': 1,\n",
       " '2019-05-28T00:00:00+00:00': 0,\n",
       " '2019-05-29T00:00:00+00:00': 0,\n",
       " '2019-05-30T00:00:00+00:00': 1,\n",
       " '2019-05-31T00:00:00+00:00': 0,\n",
       " '2019-06-01T00:00:00+00:00': 0,\n",
       " '2019-06-02T00:00:00+00:00': 0,\n",
       " '2019-06-03T00:00:00+00:00': 0,\n",
       " '2019-06-04T00:00:00+00:00': 0,\n",
       " '2019-06-05T00:00:00+00:00': 1,\n",
       " '2019-06-06T00:00:00+00:00': 0,\n",
       " '2019-06-07T00:00:00+00:00': 0,\n",
       " '2019-06-08T00:00:00+00:00': 0,\n",
       " '2019-06-09T00:00:00+00:00': 0,\n",
       " '2019-06-10T00:00:00+00:00': 0,\n",
       " '2019-06-11T00:00:00+00:00': 0,\n",
       " '2019-06-12T00:00:00+00:00': 1,\n",
       " '2019-06-13T00:00:00+00:00': 0,\n",
       " '2019-06-14T00:00:00+00:00': 0,\n",
       " '2019-06-15T00:00:00+00:00': 0,\n",
       " '2019-06-16T00:00:00+00:00': 0,\n",
       " '2019-06-17T00:00:00+00:00': 0,\n",
       " '2019-06-18T00:00:00+00:00': 0,\n",
       " '2019-06-19T00:00:00+00:00': 0,\n",
       " '2019-06-20T00:00:00+00:00': 1,\n",
       " '2019-06-21T00:00:00+00:00': 0,\n",
       " '2019-06-22T00:00:00+00:00': 0,\n",
       " '2019-06-23T00:00:00+00:00': 0,\n",
       " '2019-06-24T00:00:00+00:00': 1,\n",
       " '2019-06-25T00:00:00+00:00': 1,\n",
       " '2019-06-26T00:00:00+00:00': 0,\n",
       " '2019-06-27T00:00:00+00:00': 0,\n",
       " '2019-06-28T00:00:00+00:00': 0,\n",
       " '2019-06-29T00:00:00+00:00': 1,\n",
       " '2019-06-30T00:00:00+00:00': 0,\n",
       " '2019-07-01T00:00:00+00:00': 0,\n",
       " '2019-07-02T00:00:00+00:00': 0,\n",
       " '2019-07-03T00:00:00+00:00': 0,\n",
       " '2019-07-04T00:00:00+00:00': 0,\n",
       " '2019-07-05T00:00:00+00:00': 0,\n",
       " '2019-07-06T00:00:00+00:00': 0,\n",
       " '2019-07-07T00:00:00+00:00': 0,\n",
       " '2019-07-08T00:00:00+00:00': 0,\n",
       " '2019-07-09T00:00:00+00:00': 0,\n",
       " '2019-07-10T00:00:00+00:00': 1,\n",
       " '2019-07-11T00:00:00+00:00': 0,\n",
       " '2019-07-12T00:00:00+00:00': 0,\n",
       " '2019-07-13T00:00:00+00:00': 0,\n",
       " '2019-07-14T00:00:00+00:00': 0,\n",
       " '2019-07-15T00:00:00+00:00': 0,\n",
       " '2019-07-16T00:00:00+00:00': 0,\n",
       " '2019-07-17T00:00:00+00:00': 0,\n",
       " '2019-07-18T00:00:00+00:00': 0,\n",
       " '2019-07-19T00:00:00+00:00': 0,\n",
       " '2019-07-20T00:00:00+00:00': 1,\n",
       " '2019-07-21T00:00:00+00:00': 0,\n",
       " '2019-07-22T00:00:00+00:00': 1,\n",
       " '2019-07-23T00:00:00+00:00': 0,\n",
       " '2019-07-24T00:00:00+00:00': 0,\n",
       " '2019-07-25T00:00:00+00:00': 2,\n",
       " '2019-07-26T00:00:00+00:00': 1,\n",
       " '2019-07-27T00:00:00+00:00': 0,\n",
       " '2019-07-28T00:00:00+00:00': 0,\n",
       " '2019-07-29T00:00:00+00:00': 0,\n",
       " '2019-07-30T00:00:00+00:00': 1,\n",
       " '2019-07-31T00:00:00+00:00': 1,\n",
       " '2019-08-01T00:00:00+00:00': 0,\n",
       " '2019-08-02T00:00:00+00:00': 0,\n",
       " '2019-08-03T00:00:00+00:00': 0,\n",
       " '2019-08-04T00:00:00+00:00': 0,\n",
       " '2019-08-05T00:00:00+00:00': 1,\n",
       " '2019-08-06T00:00:00+00:00': 2,\n",
       " '2019-08-07T00:00:00+00:00': 0,\n",
       " '2019-08-08T00:00:00+00:00': 1,\n",
       " '2019-08-09T00:00:00+00:00': 0,\n",
       " '2019-08-10T00:00:00+00:00': 0,\n",
       " '2019-08-11T00:00:00+00:00': 0,\n",
       " '2019-08-12T00:00:00+00:00': 0,\n",
       " '2019-08-13T00:00:00+00:00': 0,\n",
       " '2019-08-14T00:00:00+00:00': 0,\n",
       " '2019-08-15T00:00:00+00:00': 0,\n",
       " '2019-08-16T00:00:00+00:00': 0,\n",
       " '2019-08-17T00:00:00+00:00': 1,\n",
       " '2019-08-18T00:00:00+00:00': 0,\n",
       " '2019-08-19T00:00:00+00:00': 1,\n",
       " '2019-08-20T00:00:00+00:00': 0,\n",
       " '2019-08-21T00:00:00+00:00': 0,\n",
       " '2019-08-22T00:00:00+00:00': 2,\n",
       " '2019-08-23T00:00:00+00:00': 0,\n",
       " '2019-08-24T00:00:00+00:00': 0,\n",
       " '2019-08-25T00:00:00+00:00': 0,\n",
       " '2019-08-26T00:00:00+00:00': 0,\n",
       " '2019-08-27T00:00:00+00:00': 0,\n",
       " '2019-08-28T00:00:00+00:00': 0,\n",
       " '2019-08-29T00:00:00+00:00': 0,\n",
       " '2019-08-30T00:00:00+00:00': 2,\n",
       " '2019-08-31T00:00:00+00:00': 0,\n",
       " '2019-09-01T00:00:00+00:00': 0,\n",
       " '2019-09-02T00:00:00+00:00': 0,\n",
       " '2019-09-03T00:00:00+00:00': 0,\n",
       " '2019-09-04T00:00:00+00:00': 0,\n",
       " '2019-09-05T00:00:00+00:00': 0,\n",
       " '2019-09-06T00:00:00+00:00': 0,\n",
       " '2019-09-07T00:00:00+00:00': 0,\n",
       " '2019-09-08T00:00:00+00:00': 0,\n",
       " '2019-09-09T00:00:00+00:00': 0,\n",
       " '2019-09-10T00:00:00+00:00': 0,\n",
       " '2019-09-11T00:00:00+00:00': 0,\n",
       " '2019-09-12T00:00:00+00:00': 1,\n",
       " '2019-09-13T00:00:00+00:00': 0,\n",
       " '2019-09-14T00:00:00+00:00': 0,\n",
       " '2019-09-15T00:00:00+00:00': 0,\n",
       " '2019-09-16T00:00:00+00:00': 0,\n",
       " '2019-09-17T00:00:00+00:00': 0,\n",
       " '2019-09-18T00:00:00+00:00': 0,\n",
       " '2019-09-19T00:00:00+00:00': 1,\n",
       " '2019-09-20T00:00:00+00:00': 0,\n",
       " '2019-09-21T00:00:00+00:00': 0,\n",
       " '2019-09-22T00:00:00+00:00': 1,\n",
       " '2019-09-23T00:00:00+00:00': 0,\n",
       " '2019-09-24T00:00:00+00:00': 1,\n",
       " '2019-09-25T00:00:00+00:00': 2,\n",
       " '2019-09-26T00:00:00+00:00': 1,\n",
       " '2019-09-27T00:00:00+00:00': 0,\n",
       " '2019-09-28T00:00:00+00:00': 0,\n",
       " '2019-09-29T00:00:00+00:00': 0,\n",
       " '2019-09-30T00:00:00+00:00': 0,\n",
       " '2019-10-01T00:00:00+00:00': 0,\n",
       " '2019-10-02T00:00:00+00:00': 0,\n",
       " '2019-10-03T00:00:00+00:00': 0,\n",
       " '2019-10-04T00:00:00+00:00': 1,\n",
       " '2019-10-05T00:00:00+00:00': 0,\n",
       " '2019-10-06T00:00:00+00:00': 0,\n",
       " '2019-10-07T00:00:00+00:00': 0,\n",
       " '2019-10-08T00:00:00+00:00': 0,\n",
       " '2019-10-09T00:00:00+00:00': 1,\n",
       " '2019-10-10T00:00:00+00:00': 0,\n",
       " '2019-10-11T00:00:00+00:00': 1,\n",
       " '2019-10-12T00:00:00+00:00': 0,\n",
       " '2019-10-13T00:00:00+00:00': 0,\n",
       " '2019-10-14T00:00:00+00:00': 0,\n",
       " '2019-10-15T00:00:00+00:00': 0,\n",
       " '2019-10-16T00:00:00+00:00': 0,\n",
       " '2019-10-17T00:00:00+00:00': 2,\n",
       " '2019-10-18T00:00:00+00:00': 0,\n",
       " '2019-10-19T00:00:00+00:00': 0,\n",
       " '2019-10-20T00:00:00+00:00': 0,\n",
       " '2019-10-21T00:00:00+00:00': 0,\n",
       " '2019-10-22T00:00:00+00:00': 0,\n",
       " '2019-10-23T00:00:00+00:00': 0,\n",
       " '2019-10-24T00:00:00+00:00': 0,\n",
       " '2019-10-25T00:00:00+00:00': 0,\n",
       " '2019-10-26T00:00:00+00:00': 0,\n",
       " '2019-10-27T00:00:00+00:00': 0,\n",
       " '2019-10-28T00:00:00+00:00': 0,\n",
       " '2019-10-29T00:00:00+00:00': 0,\n",
       " '2019-10-30T00:00:00+00:00': 0,\n",
       " '2019-10-31T00:00:00+00:00': 0,\n",
       " '2019-11-01T00:00:00+00:00': 0,\n",
       " '2019-11-02T00:00:00+00:00': 1,\n",
       " '2019-11-03T00:00:00+00:00': 1,\n",
       " '2019-11-04T00:00:00+00:00': 1,\n",
       " '2019-11-05T00:00:00+00:00': 0,\n",
       " '2019-11-06T00:00:00+00:00': 0,\n",
       " '2019-11-07T00:00:00+00:00': 0,\n",
       " '2019-11-08T00:00:00+00:00': 0,\n",
       " '2019-11-09T00:00:00+00:00': 0,\n",
       " '2019-11-10T00:00:00+00:00': 0,\n",
       " '2019-11-11T00:00:00+00:00': 1,\n",
       " '2019-11-12T00:00:00+00:00': 0,\n",
       " '2019-11-13T00:00:00+00:00': 2,\n",
       " '2019-11-14T00:00:00+00:00': 0,\n",
       " '2019-11-15T00:00:00+00:00': 0,\n",
       " '2019-11-16T00:00:00+00:00': 0,\n",
       " '2019-11-17T00:00:00+00:00': 1,\n",
       " '2019-11-18T00:00:00+00:00': 0,\n",
       " '2019-11-19T00:00:00+00:00': 0,\n",
       " '2019-11-20T00:00:00+00:00': 0,\n",
       " '2019-11-21T00:00:00+00:00': 0,\n",
       " '2019-11-22T00:00:00+00:00': 0,\n",
       " '2019-11-23T00:00:00+00:00': 1,\n",
       " '2019-11-24T00:00:00+00:00': 0,\n",
       " '2019-11-25T00:00:00+00:00': 1,\n",
       " '2019-11-26T00:00:00+00:00': 1,\n",
       " '2019-11-27T00:00:00+00:00': 2,\n",
       " '2019-11-28T00:00:00+00:00': 0,\n",
       " '2019-11-29T00:00:00+00:00': 0,\n",
       " '2019-11-30T00:00:00+00:00': 0,\n",
       " '2019-12-01T00:00:00+00:00': 0,\n",
       " '2019-12-02T00:00:00+00:00': 0,\n",
       " '2019-12-03T00:00:00+00:00': 0,\n",
       " '2019-12-04T00:00:00+00:00': 0,\n",
       " '2019-12-05T00:00:00+00:00': 1,\n",
       " '2019-12-06T00:00:00+00:00': 2,\n",
       " '2019-12-07T00:00:00+00:00': 2,\n",
       " '2019-12-08T00:00:00+00:00': 0,\n",
       " '2019-12-09T00:00:00+00:00': 0,\n",
       " '2019-12-10T00:00:00+00:00': 0,\n",
       " '2019-12-11T00:00:00+00:00': 2,\n",
       " '2019-12-12T00:00:00+00:00': 0,\n",
       " '2019-12-13T00:00:00+00:00': 0,\n",
       " '2019-12-14T00:00:00+00:00': 0,\n",
       " '2019-12-15T00:00:00+00:00': 0,\n",
       " '2019-12-16T00:00:00+00:00': 1,\n",
       " '2019-12-17T00:00:00+00:00': 1,\n",
       " '2019-12-18T00:00:00+00:00': 1,\n",
       " '2019-12-19T00:00:00+00:00': 0,\n",
       " '2019-12-20T00:00:00+00:00': 1,\n",
       " '2019-12-21T00:00:00+00:00': 0,\n",
       " '2019-12-22T00:00:00+00:00': 0,\n",
       " '2019-12-23T00:00:00+00:00': 0,\n",
       " '2019-12-24T00:00:00+00:00': 1,\n",
       " '2019-12-25T00:00:00+00:00': 0,\n",
       " '2019-12-26T00:00:00+00:00': 1,\n",
       " '2019-12-27T00:00:00+00:00': 1,\n",
       " '2019-12-28T00:00:00+00:00': 0,\n",
       " '2019-12-29T00:00:00+00:00': 0,\n",
       " '2019-12-30T00:00:00+00:00': 0,\n",
       " '2019-12-31T00:00:00+00:00': 0}"
      ]
     },
     "execution_count": 29,
     "metadata": {},
     "output_type": "execute_result"
    }
   ],
   "source": [
    "required_dict"
   ]
  },
  {
   "cell_type": "markdown",
   "metadata": {},
   "source": [
    "# Writing to CSV"
   ]
  },
  {
   "cell_type": "code",
   "execution_count": 31,
   "metadata": {},
   "outputs": [],
   "source": [
    "data = pd.DataFrame.from_dict(required_dict, orient='index',columns = None)"
   ]
  },
  {
   "cell_type": "code",
   "execution_count": 32,
   "metadata": {},
   "outputs": [],
   "source": [
    "data = data.reset_index()"
   ]
  },
  {
   "cell_type": "code",
   "execution_count": 33,
   "metadata": {},
   "outputs": [],
   "source": [
    "data.columns = ['date', 'value']"
   ]
  },
  {
   "cell_type": "code",
   "execution_count": 34,
   "metadata": {},
   "outputs": [],
   "source": [
    "data.to_csv('launch.csv')"
   ]
  },
  {
   "cell_type": "code",
   "execution_count": 37,
   "metadata": {},
   "outputs": [
    {
     "data": {
      "text/html": [
       "<div>\n",
       "<style scoped>\n",
       "    .dataframe tbody tr th:only-of-type {\n",
       "        vertical-align: middle;\n",
       "    }\n",
       "\n",
       "    .dataframe tbody tr th {\n",
       "        vertical-align: top;\n",
       "    }\n",
       "\n",
       "    .dataframe thead th {\n",
       "        text-align: right;\n",
       "    }\n",
       "</style>\n",
       "<table border=\"1\" class=\"dataframe\">\n",
       "  <thead>\n",
       "    <tr style=\"text-align: right;\">\n",
       "      <th></th>\n",
       "      <th>date</th>\n",
       "      <th>value</th>\n",
       "    </tr>\n",
       "  </thead>\n",
       "  <tbody>\n",
       "    <tr>\n",
       "      <td>0</td>\n",
       "      <td>2019-01-01T00:00:00+00:00</td>\n",
       "      <td>0</td>\n",
       "    </tr>\n",
       "    <tr>\n",
       "      <td>1</td>\n",
       "      <td>2019-01-02T00:00:00+00:00</td>\n",
       "      <td>0</td>\n",
       "    </tr>\n",
       "    <tr>\n",
       "      <td>2</td>\n",
       "      <td>2019-01-03T00:00:00+00:00</td>\n",
       "      <td>0</td>\n",
       "    </tr>\n",
       "    <tr>\n",
       "      <td>3</td>\n",
       "      <td>2019-01-04T00:00:00+00:00</td>\n",
       "      <td>0</td>\n",
       "    </tr>\n",
       "    <tr>\n",
       "      <td>4</td>\n",
       "      <td>2019-01-05T00:00:00+00:00</td>\n",
       "      <td>0</td>\n",
       "    </tr>\n",
       "  </tbody>\n",
       "</table>\n",
       "</div>"
      ],
      "text/plain": [
       "                        date  value\n",
       "0  2019-01-01T00:00:00+00:00      0\n",
       "1  2019-01-02T00:00:00+00:00      0\n",
       "2  2019-01-03T00:00:00+00:00      0\n",
       "3  2019-01-04T00:00:00+00:00      0\n",
       "4  2019-01-05T00:00:00+00:00      0"
      ]
     },
     "execution_count": 37,
     "metadata": {},
     "output_type": "execute_result"
    }
   ],
   "source": [
    "data.head()"
   ]
  },
  {
   "cell_type": "code",
   "execution_count": null,
   "metadata": {},
   "outputs": [],
   "source": []
  }
 ],
 "metadata": {
  "kernelspec": {
   "display_name": "Python 3",
   "language": "python",
   "name": "python3"
  },
  "language_info": {
   "codemirror_mode": {
    "name": "ipython",
    "version": 3
   },
   "file_extension": ".py",
   "mimetype": "text/x-python",
   "name": "python",
   "nbconvert_exporter": "python",
   "pygments_lexer": "ipython3",
   "version": "3.7.4"
  }
 },
 "nbformat": 4,
 "nbformat_minor": 4
}
